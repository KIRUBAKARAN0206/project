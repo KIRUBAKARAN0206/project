{
  "cells": [
    {
      "cell_type": "code",
      "execution_count": 4,
      "metadata": {},
      "outputs": [
        {
          "name": "stderr",
          "output_type": "stream",
          "text": [
            "c:\\Users\\Mohamed\\AppData\\Local\\Programs\\Python\\Python311\\Lib\\site-packages\\gradio\\blocks.py:529: UserWarning: Cannot load compact. Caught Exception: (MaxRetryError('HTTPSConnectionPool(host=\\'huggingface.co\\', port=443): Max retries exceeded with url: /api/spaces/compact (Caused by NameResolutionError(\"<urllib3.connection.HTTPSConnection object at 0x000001A044C13AD0>: Failed to resolve \\'huggingface.co\\' ([Errno 11001] getaddrinfo failed)\"))'), '(Request ID: 6b08875c-e3fd-4890-81a0-a941dec5cca6)')\n",
            "  warnings.warn(f\"Cannot load {theme}. Caught Exception: {str(e)}\")\n"
          ]
        },
        {
          "name": "stdout",
          "output_type": "stream",
          "text": [
            "Running on local URL:  http://127.0.0.1:7863\n",
            "\n",
            "Could not create share link. Please check your internet connection or our status page: https://status.gradio.app.\n"
          ]
        },
        {
          "data": {
            "text/html": [
              "<div><iframe src=\"http://127.0.0.1:7863/\" width=\"100%\" height=\"500\" allow=\"autoplay; camera; microphone; clipboard-read; clipboard-write;\" frameborder=\"0\" allowfullscreen></iframe></div>"
            ],
            "text/plain": [
              "<IPython.core.display.HTML object>"
            ]
          },
          "metadata": {},
          "output_type": "display_data"
        },
        {
          "data": {
            "text/plain": []
          },
          "execution_count": 4,
          "metadata": {},
          "output_type": "execute_result"
        }
      ],
      "source": [
        "import gradio as gr\n",
        "import torch\n",
        "import torch.nn as nn\n",
        "import torchvision.transforms as transforms\n",
        "from torchvision import models\n",
        "from PIL import Image\n",
        "import numpy as np\n",
        "\n",
        "# Load the trained model\n",
        "model = models.resnet18()\n",
        "num_ftrs = model.fc.in_features\n",
        "model.fc = nn.Linear(num_ftrs, 4)\n",
        "model.load_state_dict(torch.load('D:/PROJECT/Part Time/Tuberculosis detention in chest radiograph using convolutional neural network architecture - deep learning/PRG/chest_xray_classification.pth'))\n",
        "model.eval()\n",
        "\n",
        "# Define the transformations for input images\n",
        "preprocess = transforms.Compose([\n",
        "    transforms.Resize((224, 224)),\n",
        "    transforms.ToTensor(),\n",
        "    transforms.Normalize(mean=[0.485, 0.456, 0.406], std=[0.229, 0.224, 0.225]),\n",
        "])\n",
        "\n",
        "# Function to make predictions\n",
        "def predict_xray(img):\n",
        "    # Check if the input image is None or missing data\n",
        "    if img is None:\n",
        "        return \"Invalid image\"\n",
        "\n",
        "    # Convert Gradio Image data to a NumPy array\n",
        "    img_data = np.array(img)\n",
        "\n",
        "    # Preprocess the input image\n",
        "    img_pil = Image.fromarray((img_data * 255).astype('uint8'))\n",
        "    img_tensor = preprocess(img_pil)\n",
        "    img_tensor = img_tensor.unsqueeze(0)  # Add batch dimension\n",
        "\n",
        "    # Make prediction\n",
        "    with torch.no_grad():\n",
        "        output = model(img_tensor)\n",
        "\n",
        "    # Get the predicted class\n",
        "    _, predicted_class = torch.max(output, 1)\n",
        "\n",
        "    class_labels = [\"Tuberculosis\", \"Tuberculosis\", \"Normal\", \"Tuberculosis\"]\n",
        "    prediction = class_labels[predicted_class.item()]\n",
        "\n",
        "    return prediction\n",
        "\n",
        "# Gradio UI\n",
        "iface = gr.Interface(\n",
        "    fn=predict_xray,\n",
        "    inputs=gr.Image(type=\"pil\", label=\"Upload Chest X-ray Image\"),\n",
        "    outputs=gr.Textbox(label=\"Prediction:\"),\n",
        "    live=True,\n",
        "    theme=\"compact\",\n",
        ")\n",
        "\n",
        "iface.launch(share=True)\n"
      ]
    }
  ],
  "metadata": {
    "colab": {
      "provenance": []
    },
    "kernelspec": {
      "display_name": "Python 3",
      "name": "python3"
    },
    "language_info": {
      "codemirror_mode": {
        "name": "ipython",
        "version": 3
      },
      "file_extension": ".py",
      "mimetype": "text/x-python",
      "name": "python",
      "nbconvert_exporter": "python",
      "pygments_lexer": "ipython3",
      "version": "3.11.5"
    }
  },
  "nbformat": 4,
  "nbformat_minor": 0
}
